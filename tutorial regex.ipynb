{
 "cells": [
  {
   "cell_type": "markdown",
   "id": "0b83419f",
   "metadata": {},
   "source": [
    "# Tutorial de *'prompting'* efectivos para Expresiones Regulares"
   ]
  },
  {
   "cell_type": "markdown",
   "id": "5ccb9116",
   "metadata": {},
   "source": [
    "## 1. Introducción\n",
    "¿Alguna vez te has encontrado buscando o manipulando texto de manera repetitiva y tediosa? ¡No busques más!. En este tutorial, combinarás expresiones regulares y el modelo GPT-3.5 en Jupyter Notebook para crear prompots efectivos. Aprenderás a guiar la generación de respuestas del modelo utilizando expresiones regulares, lo que te permitirá construir chatbots y sistemas de procesamiento de texto precisos."
   ]
  },
  {
   "cell_type": "markdown",
   "id": "ac642862-da1a-4994-bb88-cde83cab44fa",
   "metadata": {},
   "source": [
    "## 2. Expresiones regulares\n",
    "Una expresión regular, también conocida como **regex**, es una secuencia de caracteres que define un patrón de búsqueda en un texto. \n",
    "\n",
    "Para crear, aprender y probar expresiones regulares: [regex](https://regex101.com/)\n",
    "\n",
    "\n",
    "| Expresión               | Descripción                                                                        |\n",
    "|:-------------------------|:------------------------------------------------------------------------------------|\n",
    "| `^`                     | Empata al inicio de la línea.                                                      |\n",
    "| `$`                     | Empata al fin de la línea.                                                         |\n",
    "| `.`                     | Empata con cualquier caracter (comodín).                                           |\n",
    "| `\\s`                    | Empata con cualquier caracter que sea espacio en blanco.                            |\n",
    "| `\\S`                    | Empata con un cualquier caracter que no sea espacio en blanco (opuesto de `\\s`).   |\n",
    "| `?`                     | Empata con el elemento anterior cero veces o una vez.                               |\n",
    "| `*`                     | Empata con el elemento anterior cero o más veces.                                  |\n",
    "| `*?`                    | Empata con el elemento anterior cero o más veces, pero el menor número de veces posible. |\n",
    "| `+`                     | Empata con el elemento anterior una o más veces.                                   |\n",
    "| `+?`                    | Coincide con el elemento anterior una o más veces, pero el menor número de veces posible. |\n",
    "| `??`                    | Empata con el elemento anterior cero o una vez, pero el menor número de veces posible. |\n",
    "| `[aeiou]`               | Empata con un solo carácter siempre que ese carácter esté en el conjunto especificado. |\n",
    "| `[a-z0-9]`              | Se pueden especificar rangos de caracteres con el signo menos. Este ejemplo es un carácter único que debe ser una letra minúscula o un dígito. |\n"
   ]
  },
  {
   "cell_type": "markdown",
   "id": "2d931ba0",
   "metadata": {},
   "source": [
    "## 3. ¿Qué es un Prompting?\n",
    "Es la acción de proporcionar una instrucción o un contexto concreto a un modelo de lenguaje como CahtGPT para que genere una respuesta específica. "
   ]
  },
  {
   "cell_type": "markdown",
   "id": "352610c7",
   "metadata": {},
   "source": [
    "### Ejemplo 1. Fechas\n",
    "\n",
    "### Prompt 1:\n",
    "\n",
    "**Actúa como un generador de expresiones regulares. Ahora proporciona una expresión regular para capturar las fechas. Ten en cuenta el escape del delimitador.**"
   ]
  },
  {
   "cell_type": "markdown",
   "id": "6c085fc1",
   "metadata": {},
   "source": [
    "---\n",
    "<span style=\"color:green;\">ChatGPT:\n",
    "```python\n",
    "\\d{2}\\/\\d{2}\\/\\d{4}\n",
    "```    \n",
    "<details>  \n",
    "\n",
    "\\d{2}: Esto coincide con exactamente dos dígitos. El \\d representa cualquier dígito y {2} indica que debe haber dos dígitos consecutivos.\n",
    "    \n",
    "\\/: Aquí, \\/ representa el carácter de barra diagonal. El \\ se utiliza para escapar el carácter especial /, lo que significa que la expresión regular buscará específicamente una barra diagonal.\n",
    "    \n",
    "\\d{2}: Al igual que antes, esto coincide con dos dígitos consecutivos.\n",
    "    \n",
    "\\/: Otra barra diagonal escapada.\n",
    "    \n",
    "\\d{4}: Esto coincide con exactamente cuatro dígitos consecutivos.\n",
    "</details>   \n",
    "\n",
    "---"
   ]
  },
  {
   "cell_type": "markdown",
   "id": "0e8423a8",
   "metadata": {},
   "source": [
    "Al revisar nuestra expresión regular para buscar fechas utilizando [regex](https://regex101.com/), notamos que solo identifica fechas en el formato \"dd/mm/aaaa\". Vamos a mejorar nuestra expresión para hacerla más precisa y abarcativa."
   ]
  },
  {
   "cell_type": "markdown",
   "id": "fad941d6",
   "metadata": {},
   "source": [
    "### Prompt 2:\n",
    "\n",
    "**Genera una expresión regular que coincida con fechas, donde el día y el año pueden consistir en uno o más dígitos. Las fechas pueden estar separadas por guión, punto o barras. Ten en cuenta el escape del delimitador.**"
   ]
  },
  {
   "cell_type": "markdown",
   "id": "65c65e62",
   "metadata": {},
   "source": [
    "---\n",
    "<span style=\"color:green;\">ChatGPT:\n",
    "```python\n",
    "\\d{1,2}[-\\/.]\\d{1,2}[-\\/.]\\d+\n",
    "```    \n",
    "<details>  \n",
    "\n",
    "\\d{1,2}: Coincide con uno o dos dígitos. Representa el día o el mes.\n",
    "    \n",
    "[-\\/.]: Utiliza un conjunto de caracteres ([]) para indicar que puede coincidir con uno de los caracteres dentro del conjunto. En este caso, puede coincidir con un guión (-), una barra inclinada hacia adelante (\\/, donde la barra invertida se utiliza como carácter de escape) o un punto (.).\n",
    "    \n",
    "\\d{1,2}: Coincide con uno o dos dígitos. Representa el mes o el día, dependiendo de la posición en la fecha.\n",
    "    \n",
    "[-\\/.]: Similar al anterior, puede coincidir con un guión, una barra inclinada hacia adelante o un punto.\n",
    "    \n",
    "\\d+: Coincide con uno o más dígitos. Representa el año.\n",
    "</details>   \n",
    "\n",
    "---"
   ]
  },
  {
   "cell_type": "markdown",
   "id": "dc7e4898",
   "metadata": {},
   "source": [
    "¡Te invito a explorar la página [regex](https://regex101.com/)! Estamos usando un patrón que reconoce fechas. Puede identificar días y años con uno o más dígitos, y las fechas pueden estar separadas por guiones, puntos o barras. "
   ]
  },
  {
   "cell_type": "code",
   "execution_count": null,
   "id": "70fdacf1",
   "metadata": {},
   "outputs": [],
   "source": []
  }
 ],
 "metadata": {
  "kernelspec": {
   "display_name": "Python 3 (ipykernel)",
   "language": "python",
   "name": "python3"
  },
  "language_info": {
   "codemirror_mode": {
    "name": "ipython",
    "version": 3
   },
   "file_extension": ".py",
   "mimetype": "text/x-python",
   "name": "python",
   "nbconvert_exporter": "python",
   "pygments_lexer": "ipython3",
   "version": "3.11.4"
  }
 },
 "nbformat": 4,
 "nbformat_minor": 5
}
