{
 "cells": [
  {
   "cell_type": "markdown",
   "id": "0b83419f",
   "metadata": {},
   "source": [
    "# Tutorial de *'prompting'* efectivos para Expresiones Regulares"
   ]
  },
  {
   "cell_type": "markdown",
   "id": "5ccb9116",
   "metadata": {},
   "source": [
    "## 1. Introducción\n",
    "¿Alguna vez te has encontrado buscando o manipulando texto de manera repetitiva y tediosa? ¡No busques más!. En este tutorial, combinarás expresiones regulares y el modelo GPT-3.5 en Jupyter Notebook para crear prompots efectivos. Aprenderás a guiar la generación de respuestas del modelo utilizando expresiones regulares, lo que te permitirá construir chatbots y sistemas de procesamiento de texto precisos."
   ]
  },
  {
   "cell_type": "code",
   "execution_count": null,
   "id": "86ca78fe",
   "metadata": {},
   "outputs": [],
   "source": []
  }
 ],
 "metadata": {
  "kernelspec": {
   "display_name": "Python 3 (ipykernel)",
   "language": "python",
   "name": "python3"
  },
  "language_info": {
   "codemirror_mode": {
    "name": "ipython",
    "version": 3
   },
   "file_extension": ".py",
   "mimetype": "text/x-python",
   "name": "python",
   "nbconvert_exporter": "python",
   "pygments_lexer": "ipython3",
   "version": "3.11.4"
  }
 },
 "nbformat": 4,
 "nbformat_minor": 5
}
