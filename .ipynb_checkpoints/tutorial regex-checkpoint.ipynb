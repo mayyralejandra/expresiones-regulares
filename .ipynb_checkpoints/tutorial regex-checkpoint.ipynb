{
 "cells": [
  {
   "cell_type": "markdown",
   "id": "0b83419f",
   "metadata": {},
   "source": [
    "# Tutorial de *'prompting'* efectivos para Expresiones Regulares"
   ]
  },
  {
   "cell_type": "markdown",
   "id": "5ccb9116",
   "metadata": {},
   "source": [
    "## 1. Introducción\n",
    "¿Alguna vez te has encontrado buscando o manipulando texto de manera repetitiva y tediosa? ¡No busques más!. En este tutorial, combinarás expresiones regulares y el modelo GPT-3.5 en Jupyter Notebook para crear prompots efectivos. Aprenderás a guiar la generación de respuestas del modelo utilizando expresiones regulares, lo que te permitirá construir chatbots y sistemas de procesamiento de texto precisos."
   ]
  },
  {
   "cell_type": "markdown",
   "id": "ac642862-da1a-4994-bb88-cde83cab44fa",
   "metadata": {},
   "source": [
    "## 2. Expresiones regulares\n",
    "Una expresión regular, también conocida como **regex**, es una secuencia de caracteres que define un patrón de búsqueda en un texto. \n",
    "\n",
    "Para crear, aprender y probar expresiones regulares: [regex](https://regex101.com/)\n",
    "\n",
    "\n",
    "| Expresión               | Descripción                                                                        |\n",
    "|:-------------------------|:------------------------------------------------------------------------------------|\n",
    "| `^`                     | Empata al inicio de la línea.                                                      |\n",
    "| `$`                     | Empata al fin de la línea.                                                         |\n",
    "| `.`                     | Empata con cualquier caracter (comodín).                                           |\n",
    "| `\\s`                    | Empata con cualquier caracter que sea espacio en blanco.                            |\n",
    "| `\\S`                    | Empata con un cualquier caracter que no sea espacio en blanco (opuesto de `\\s`).   |\n",
    "| `?`                     | Empata con el elemento anterior cero veces o una vez.                               |\n",
    "| `*`                     | Empata con el elemento anterior cero o más veces.                                  |\n",
    "| `*?`                    | Empata con el elemento anterior cero o más veces, pero el menor número de veces posible. |\n",
    "| `+`                     | Empata con el elemento anterior una o más veces.                                   |\n",
    "| `+?`                    | Coincide con el elemento anterior una o más veces, pero el menor número de veces posible. |\n",
    "| `??`                    | Empata con el elemento anterior cero o una vez, pero el menor número de veces posible. |\n",
    "| `[aeiou]`               | Empata con un solo carácter siempre que ese carácter esté en el conjunto especificado. |\n",
    "| `[a-z0-9]`              | Se pueden especificar rangos de caracteres con el signo menos. Este ejemplo es un carácter único que debe ser una letra minúscula o un dígito. |\n"
   ]
  },
  {
   "cell_type": "markdown",
   "id": "2d931ba0",
   "metadata": {},
   "source": [
    "## 3. ¿Qué es un Prompting?\n",
    "Es la acción de proporcionar una instrucción o un contexto concreto a un modelo de lenguaje como CahtGPT para que genere una respuesta específica. "
   ]
  },
  {
   "cell_type": "markdown",
   "id": "352610c7",
   "metadata": {},
   "source": [
    "### Ejemplo 1. Fechas\n",
    "\n",
    "### Prompt 1:\n",
    "\n",
    "**Actúa como un generador de expresiones regulares. Ahora proporciona una expresión regular para capturar las fechas. Ten en cuenta el escape del delimitador.**"
   ]
  },
  {
   "cell_type": "markdown",
   "id": "6c085fc1",
   "metadata": {},
   "source": [
    "---\n",
    "<span style=\"color:green;\">ChatGPT:\n",
    "```python\n",
    "\\d{2}\\/\\d{2}\\/\\d{4}\n",
    "```    \n",
    "<details>  \n",
    "\n",
    "\\d{2}: Esto coincide con exactamente dos dígitos. El \\d representa cualquier dígito y {2} indica que debe haber dos dígitos consecutivos.\n",
    "    \n",
    "\\/: Aquí, \\/ representa el carácter de barra diagonal. El \\ se utiliza para escapar el carácter especial /, lo que significa que la expresión regular buscará específicamente una barra diagonal.\n",
    "    \n",
    "\\d{2}: Al igual que antes, esto coincide con dos dígitos consecutivos.\n",
    "    \n",
    "\\/: Otra barra diagonal escapada.\n",
    "    \n",
    "\\d{4}: Esto coincide con exactamente cuatro dígitos consecutivos.\n",
    "</details>   \n",
    "\n",
    "---"
   ]
  },
  {
   "cell_type": "markdown",
   "id": "0e8423a8",
   "metadata": {},
   "source": [
    "Al revisar nuestra expresión regular para buscar fechas utilizando [regex](https://regex101.com/), notamos que solo identifica fechas en el formato \"dd/mm/aaaa\". Vamos a mejorar nuestra expresión para hacerla más precisa y abarcativa."
   ]
  },
  {
   "cell_type": "markdown",
   "id": "fad941d6",
   "metadata": {},
   "source": [
    "### Prompt 2:\n",
    "\n",
    "**Genera una expresión regular que coincida con fechas, donde el día y el año pueden consistir en uno o más dígitos. Las fechas pueden estar separadas por guión, punto o barras. Ten en cuenta el escape del delimitador.**"
   ]
  },
  {
   "cell_type": "markdown",
   "id": "65c65e62",
   "metadata": {},
   "source": [
    "---\n",
    "<span style=\"color:green;\">ChatGPT:\n",
    "```python\n",
    "\\d{1,2}[-\\/.]\\d{1,2}[-\\/.]\\d+\n",
    "```    \n",
    "<details>  \n",
    "\n",
    "\\d{1,2}: Coincide con uno o dos dígitos. Representa el día o el mes.\n",
    "    \n",
    "[-\\/.]: Utiliza un conjunto de caracteres ([]) para indicar que puede coincidir con uno de los caracteres dentro del conjunto. En este caso, puede coincidir con un guión (-), una barra inclinada hacia adelante (\\/, donde la barra invertida se utiliza como carácter de escape) o un punto (.).\n",
    "    \n",
    "\\d{1,2}: Coincide con uno o dos dígitos. Representa el mes o el día, dependiendo de la posición en la fecha.\n",
    "    \n",
    "[-\\/.]: Similar al anterior, puede coincidir con un guión, una barra inclinada hacia adelante o un punto.\n",
    "    \n",
    "\\d+: Coincide con uno o más dígitos. Representa el año.\n",
    "</details>   \n",
    "\n",
    "---"
   ]
  },
  {
   "cell_type": "markdown",
   "id": "dc7e4898",
   "metadata": {},
   "source": [
    "¡Te invito a explorar la página [regex](https://regex101.com/)! Estamos usando un patrón que reconoce fechas. Puede identificar días y años con uno o más dígitos, y las fechas pueden estar separadas por guiones, puntos o barras. "
   ]
  },
  {
   "cell_type": "markdown",
   "id": "a4664b7c",
   "metadata": {},
   "source": [
    "### Ejemplo 2: Nombres y Apellidos\n",
    "\n",
    "### Prompt 1:  \n",
    "\n",
    "**Actúa como un generador de expresiones regulares para patrones específicos. Debes proporcionarlas en un formato fácil de copiar y pegar en un editor o lenguaje compatible. Ahora, proporciona una expresión regular para extraer nombres y apellidos.**"
   ]
  },
  {
   "cell_type": "markdown",
   "id": "6020878d",
   "metadata": {},
   "source": [
    "---\n",
    "<span style=\"color:green;\">ChatGPT:\n",
    "```python\n",
    "[A-Z][a-z]+\\s[A-Z][a-z]+\n",
    "```    \n",
    "<details>    \n",
    "Esta expresión regular busca coincidencias de la siguiente manera:\n",
    "\n",
    "[A-Z]: Busca una letra mayúscula al principio de la palabra.\n",
    "\n",
    "[a-z]+: Busca una o más letras minúsculas después de la primera letra mayúscula para capturar el nombre.\n",
    "\n",
    "\\s: Busca un espacio entre el nombre y el apellido.\n",
    "\n",
    "[A-Z]: Busca otra letra mayúscula para el comienzo del apellido.\n",
    "\n",
    "[a-z]+: Busca una o más letras minúsculas después de la primera letra mayúscula del apellido.\n",
    "</details> \n",
    "    \n",
    "---"
   ]
  },
  {
   "cell_type": "markdown",
   "id": "c83c1f69",
   "metadata": {},
   "source": [
    "Al revisar nuestra expresión regular para buscar nombres como **'Juan Perez'** y **'José Ramirez'** utilizando [regex](https://regex101.com/), notamos que no muestra los nombres que llevan tilde. Para mejorar esto, vamos a fortalecer nuestra instrucción para que sea más efectiva."
   ]
  },
  {
   "cell_type": "markdown",
   "id": "11084d5e-ad27-47e8-abc8-20f675596f13",
   "metadata": {},
   "source": [
    "### Prompt 2:\n",
    "\n",
    "**Proporciona una expresión regular para extraer nombres y apellidos. Ten en cuenta las tildes, la 'ñ' y la 'ü'. No necesariamente debe empatar al inicio de la linea.**"
   ]
  },
  {
   "cell_type": "markdown",
   "id": "09cfaf3d-fc29-4d56-9b59-b2c99a01c46a",
   "metadata": {},
   "source": [
    "---\n",
    "<span style=\"color:green;\">ChatGPT:\n",
    "```python\n",
    "[\\p{L}áéíóúüñÁÉÍÓÚÜÑ']+ [\\p{L}áéíóúüñÁÉÍÓÚÜÑ']+\n",
    "```"
   ]
  },
  {
   "cell_type": "markdown",
   "id": "56c0c722-49d5-4c52-beb8-c665c0df20d8",
   "metadata": {},
   "source": [
    "¡Mira en la página [regex](https://regex101.com/)! El patrón incluye todos los nombres, hasta los con ñ, tildes y diéresis. ¡Es genial cómo funciona con caracteres especiales en los nombres!\n",
    "\n",
    "Ahora, vamos a usar un archivo de Excel como nuestra base de datos para probar cómo nuestro patrón encuentra nombres y apellidos de la mejor manera.\n",
    "\n",
    "---"
   ]
  },
  {
   "cell_type": "markdown",
   "id": "d76e2fc0",
   "metadata": {},
   "source": [
    "### Prompt 3:\n",
    "\n",
    "**Escribe un código en python para leer un archivo excel llamado 'data'. Proporciona un código que utilice expresiones regulares para extraer solo los apellidos de la columna Nombre_Completo. Este código debe considerar la presencia de tildes, la letra 'ñ' y la 'Ü'. Ten en cuenta el escape del delimitador.**"
   ]
  },
  {
   "cell_type": "markdown",
   "id": "41ae897d",
   "metadata": {},
   "source": [
    "---\n",
    "<span style=\"color:green;\">ChatGPT:"
   ]
  },
  {
   "cell_type": "code",
   "execution_count": null,
   "id": "bb886bbd",
   "metadata": {},
   "outputs": [],
   "source": [
    "import pandas as pd\n",
    "import re\n",
    "\n",
    "# Leer el archivo Excel\n",
    "archivo_excel = 'data.xlsx'  # Reemplaza 'data.xlsx' con el nombre de tu archivo Excel\n",
    "datos = pd.read_excel(archivo_excel)\n",
    "\n",
    "# Función para extraer apellidos con expresiones regulares\n",
    "def extraer_apellidos(texto):\n",
    "    patron = r'[A-Za-zÁÉÍÓÚÜÑáéíóúüñ]+\\s([A-Za-zÁÉÍÓÚÜÑáéíóúüñ]+)$'\n",
    "    apellidos = re.findall(patron, texto)\n",
    "    return apellidos\n",
    "\n",
    "# Extraer apellidos de la columna 'Nombre_Completo'\n",
    "nombres_completos = datos['Nombre_Completo'].astype(str)\n",
    "apellidos_extraidos = nombres_completos.apply(extraer_apellidos)\n",
    "\n",
    "# Imprimir apellidos extraídos\n",
    "print(\"Los apellidos extraidos son:\\n\")\n",
    "for apellidos in apellidos_extraidos:\n",
    "    print(apellidos)"
   ]
  }
 ],
 "metadata": {
  "kernelspec": {
   "display_name": "Python 3 (ipykernel)",
   "language": "python",
   "name": "python3"
  },
  "language_info": {
   "codemirror_mode": {
    "name": "ipython",
    "version": 3
   },
   "file_extension": ".py",
   "mimetype": "text/x-python",
   "name": "python",
   "nbconvert_exporter": "python",
   "pygments_lexer": "ipython3",
<<<<<<< HEAD:tutorial regex-checkpoint.ipynb
   "version": "3.9.13"
=======
   "version": "3.11.4"
>>>>>>> ccd75211bdf6ba0b6f98b007f0336e4d8b61a55d:.ipynb_checkpoints/tutorial regex-checkpoint.ipynb
  }
 },
 "nbformat": 4,
 "nbformat_minor": 5
}
