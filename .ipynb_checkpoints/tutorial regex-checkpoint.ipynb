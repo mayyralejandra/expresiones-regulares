{
 "cells": [
  {
   "cell_type": "markdown",
   "id": "0b83419f",
   "metadata": {},
   "source": [
    "# Tutorial de *'prompting'* efectivos para Expresiones Regulares"
   ]
  },
  {
   "cell_type": "markdown",
   "id": "5ccb9116",
   "metadata": {},
   "source": [
    "## 1. Introducción\n",
    "¿Alguna vez te has encontrado buscando o manipulando texto de manera repetitiva y tediosa? ¡No busques más!. En este tutorial, combinarás expresiones regulares y el modelo GPT-3.5 en Jupyter Notebook para crear prompots efectivos. Aprenderás a guiar la generación de respuestas del modelo utilizando expresiones regulares, lo que te permitirá construir chatbots y sistemas de procesamiento de texto precisos."
   ]
  },
  {
   "cell_type": "markdown",
   "id": "ac642862-da1a-4994-bb88-cde83cab44fa",
   "metadata": {},
   "source": [
    "## 2. Expresiones regulares\n",
    "Una expresión regular, también conocida como **regex**, es una secuencia de caracteres que define un patrón de búsqueda en un texto. \n",
    "\n",
    "Para crear, aprender y probar expresiones regulares: [regex](https://regex101.com/)\n",
    "\n",
    "\n",
    "| Expresión               | Descripción                                                                        |\n",
    "|:-------------------------|:------------------------------------------------------------------------------------|\n",
    "| `^`                     | Empata al inicio de la línea.                                                      |\n",
    "| `$`                     | Empata al fin de la línea.                                                         |\n",
    "| `.`                     | Empata con cualquier caracter (comodín).                                           |\n",
    "| `\\s`                    | Empata con cualquier caracter que sea espacio en blanco.                            |\n",
    "| `\\S`                    | Empata con un cualquier caracter que no sea espacio en blanco (opuesto de `\\s`).   |\n",
    "| `?`                     | Empata con el elemento anterior cero veces o una vez.                               |\n",
    "| `*`                     | Empata con el elemento anterior cero o más veces.                                  |\n",
    "| `*?`                    | Empata con el elemento anterior cero o más veces, pero el menor número de veces posible. |\n",
    "| `+`                     | Empata con el elemento anterior una o más veces.                                   |\n",
    "| `+?`                    | Coincide con el elemento anterior una o más veces, pero el menor número de veces posible. |\n",
    "| `??`                    | Empata con el elemento anterior cero o una vez, pero el menor número de veces posible. |\n",
    "| `[aeiou]`               | Empata con un solo carácter siempre que ese carácter esté en el conjunto especificado. |\n",
    "| `[a-z0-9]`              | Se pueden especificar rangos de caracteres con el signo menos. Este ejemplo es un carácter único que debe ser una letra minúscula o un dígito. |\n"
   ]
  }
 ],
 "metadata": {
  "kernelspec": {
   "display_name": "Python 3 (ipykernel)",
   "language": "python",
   "name": "python3"
  },
  "language_info": {
   "codemirror_mode": {
    "name": "ipython",
    "version": 3
   },
   "file_extension": ".py",
   "mimetype": "text/x-python",
   "name": "python",
   "nbconvert_exporter": "python",
   "pygments_lexer": "ipython3",
   "version": "3.11.5"
  }
 },
 "nbformat": 4,
 "nbformat_minor": 5
}
