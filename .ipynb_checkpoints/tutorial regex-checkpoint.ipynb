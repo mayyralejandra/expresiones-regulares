{
 "cells": [
  {
   "cell_type": "markdown",
   "id": "e7794ab4",
   "metadata": {},
   "source": [
    "# Tutorial de *'prompting'* efectivos para Expresiones Regulares"
   ]
  },
  {
   "cell_type": "markdown",
   "id": "6b399021",
   "metadata": {},
   "source": [
    "## 1. Introducción\n",
    "¿Alguna vez te has encontrado buscando o manipulando texto de manera repetitiva y tediosa? ¡No busques más!. En este tutorial, combinarás expresiones regulares y el modelo GPT-3.5 en Jupyter Notebook para crear prompts efectivos. Aprenderás a guiar la generación de respuestas del modelo utilizando expresiones regulares, lo que te permitirá construir chatbots y sistemas de procesamiento de texto precisos."
   ]
  },
  {
   "cell_type": "markdown",
   "id": "5c1cfb0f",
   "metadata": {},
   "source": [
    "## 2. Expresiones regulares\n",
    "Una expresión regular, también conocida como **regex**, es una secuencia de caracteres que define un patrón de búsqueda en un texto. \n",
    "\n",
    "Para crear, aprender y probar expresiones regulares: [regex](https://regex101.com/)\n",
    "\n",
    "\n",
    "| Expresión               | Descripción                                                                        |\n",
    "|:-------------------------|:------------------------------------------------------------------------------------|\n",
    "| `^`                     | Empata al inicio de la línea.                                                      |\n",
    "| `$`                     | Empata al fin de la línea.                                                         |\n",
    "| `.`                     | Empata con cualquier caracter (comodín).                                           |\n",
    "| `\\s`                    | Empata con cualquier caracter que sea espacio en blanco.                            |\n",
    "| `\\S`                    | Empata con un cualquier caracter que no sea espacio en blanco (opuesto de `\\s`).   |\n",
    "| `?`                     | Empata con el elemento anterior cero veces o una vez.                               |\n",
    "| `*`                     | Empata con el elemento anterior cero o más veces.                                  |\n",
    "| `*?`                    | Empata con el elemento anterior cero o más veces, pero el menor número de veces posible. |\n",
    "| `+`                     | Empata con el elemento anterior una o más veces.                                   |\n",
    "| `+?`                    | Coincide con el elemento anterior una o más veces, pero el menor número de veces posible. |\n",
    "| `??`                    | Empata con el elemento anterior cero o una vez, pero el menor número de veces posible. |\n",
    "| `[aeiou]`               | Empata con un solo carácter siempre que ese carácter esté en el conjunto especificado. |\n",
    "| `[a-z0-9]`              | Se pueden especificar rangos de caracteres con el signo menos. Este ejemplo es un carácter único que debe ser una letra minúscula o un dígito. |\n",
    "\n",
    "\n"
   ]
  },
  {
   "cell_type": "markdown",
   "id": "89bef4af",
   "metadata": {},
   "source": [
    "## 3. ¿Qué es un Prompting?\n",
    "Es la acción de proporcionar una instrucción o un contexto concreto a un modelo de lenguaje como CahtGPT para que genere una respuesta específica. "
   ]
  },
  {
   "cell_type": "markdown",
   "id": "c254fb81",
   "metadata": {},
   "source": [
    "### Ejemplo 1. Fechas\n",
    "\n",
    "### Prompt 1:\n",
    "\n",
    "**Actúa como un generador de expresiones regulares. Ahora proporciona una expresión regular para capturar las fechas. Ten en cuenta el escape del delimitador.**"
   ]
  },
  {
   "cell_type": "markdown",
   "id": "a9d24859",
   "metadata": {},
   "source": [
    "---\n",
    "<span style=\"color:green;\">ChatGPT:\n",
    "```python\n",
    "\\d{2}\\/\\d{2}\\/\\d{4}\n",
    "```    \n",
    "<details>  \n",
    "\n",
    "\\d{2}: Esto coincide con exactamente dos dígitos. El \\d representa cualquier dígito y {2} indica que debe haber dos dígitos consecutivos.\n",
    "    \n",
    "\\/: Aquí, \\/ representa el carácter de barra diagonal. El \\ se utiliza para escapar el carácter especial /, lo que significa que la expresión regular buscará específicamente una barra diagonal.\n",
    "    \n",
    "\\d{2}: Al igual que antes, esto coincide con dos dígitos consecutivos.\n",
    "    \n",
    "\\/: Otra barra diagonal escapada.\n",
    "    \n",
    "\\d{4}: Esto coincide con exactamente cuatro dígitos consecutivos.\n",
    "</details>   \n",
    "\n",
    "---"
   ]
  },
  {
   "cell_type": "markdown",
   "id": "f311f279",
   "metadata": {},
   "source": [
    "Al revisar nuestra expresión regular para buscar fechas utilizando [regex](https://regex101.com/), notamos que solo identifica fechas en el formato \"dd/mm/aaaa\". Vamos a mejorar nuestra expresión para hacerla más precisa y abarcativa."
   ]
  },
  {
   "cell_type": "markdown",
   "id": "35977730",
   "metadata": {},
   "source": [
    "### Prompt 2:\n",
    "\n",
    "**Genera una expresión regular que coincida con fechas, donde el día y el año pueden consistir en uno o más dígitos. Las fechas pueden estar separadas por guión, punto o barras. Ten en cuenta el escape del delimitador.**"
   ]
  },
  {
   "cell_type": "markdown",
   "id": "c6c895e0",
   "metadata": {},
   "source": [
    "---\n",
    "<span style=\"color:green;\">ChatGPT:\n",
    "```python\n",
    "\\d{1,2}[-\\/.]\\d{1,2}[-\\/.]\\d+\n",
    "```    \n",
    "<details>  \n",
    "\n",
    "\\d{1,2}: Coincide con uno o dos dígitos. Representa el día o el mes.\n",
    "    \n",
    "[-\\/.]: Utiliza un conjunto de caracteres ([]) para indicar que puede coincidir con uno de los caracteres dentro del conjunto. En este caso, puede coincidir con un guión (-), una barra inclinada hacia adelante (\\/, donde la barra invertida se utiliza como carácter de escape) o un punto (.).\n",
    "    \n",
    "\\d{1,2}: Coincide con uno o dos dígitos. Representa el mes o el día, dependiendo de la posición en la fecha.\n",
    "    \n",
    "[-\\/.]: Similar al anterior, puede coincidir con un guión, una barra inclinada hacia adelante o un punto.\n",
    "    \n",
    "\\d+: Coincide con uno o más dígitos. Representa el año.\n",
    "</details>   \n",
    "\n",
    "---"
   ]
  },
  {
   "cell_type": "markdown",
   "id": "cb1103bd",
   "metadata": {},
   "source": [
    "¡Te invito a explorar la página [regex](https://regex101.com/)! Estamos usando un patrón que reconoce fechas. Puede identificar días y años con uno o más dígitos, y las fechas pueden estar separadas por guiones, puntos o barras. "
   ]
  },
  {
   "cell_type": "markdown",
   "id": "68fb87e8",
   "metadata": {},
   "source": [
    "### Ejemplo 2: Nombres y Apellidos\n",
    "\n",
    "### Prompt 1:  \n",
    "\n",
    "**Actúa como un generador de expresiones regulares para patrones específicos. Debes proporcionarlas en un formato fácil de copiar y pegar en un editor o lenguaje compatible. Ahora, proporciona una expresión regular para extraer nombres y apellidos.**"
   ]
  },
  {
   "cell_type": "markdown",
   "id": "6773655f",
   "metadata": {},
   "source": [
    "---\n",
    "<span style=\"color:green;\">ChatGPT:\n",
    "```python\n",
    "[A-Z][a-z]+\\s[A-Z][a-z]+\n",
    "```    \n",
    "<details>    \n",
    "Esta expresión regular busca coincidencias de la siguiente manera:\n",
    "\n",
    "[A-Z]: Busca una letra mayúscula al principio de la palabra.\n",
    "\n",
    "[a-z]+: Busca una o más letras minúsculas después de la primera letra mayúscula para capturar el nombre.\n",
    "\n",
    "\\s: Busca un espacio entre el nombre y el apellido.\n",
    "\n",
    "[A-Z]: Busca otra letra mayúscula para el comienzo del apellido.\n",
    "\n",
    "[a-z]+: Busca una o más letras minúsculas después de la primera letra mayúscula del apellido.\n",
    "</details> \n",
    "    \n",
    "---"
   ]
  },
  {
   "cell_type": "markdown",
   "id": "0264d014",
   "metadata": {},
   "source": [
    "Al revisar nuestra expresión regular para buscar nombres como **'Juan Perez'** y **'José Ramirez'** utilizando [regex](https://regex101.com/), notamos que no muestra los nombres que llevan tilde. Para mejorar esto, vamos a fortalecer nuestra instrucción para que sea más efectiva."
   ]
  },
  {
   "cell_type": "markdown",
   "id": "d47d2eb6",
   "metadata": {},
   "source": [
    "### Prompt 2:\n",
    "\n",
    "**Proporciona una expresión regular para extraer nombres y apellidos. Ten en cuenta las tildes, la 'ñ' y la 'ü'. No necesariamente debe empatar al inicio de la linea.**"
   ]
  },
  {
   "cell_type": "markdown",
   "id": "63b7247f",
   "metadata": {},
   "source": [
    "---\n",
    "<span style=\"color:green;\">ChatGPT:\n",
    "```python\n",
    "[\\p{L}áéíóúüñÁÉÍÓÚÜÑ']+ [\\p{L}áéíóúüñÁÉÍÓÚÜÑ']+\n",
    "```  \n",
    "---"
   ]
  },
  {
   "cell_type": "markdown",
   "id": "204cedc8",
   "metadata": {},
   "source": [
    "¡Mira en la página [regex](https://regex101.com/)! El patrón incluye todos los nombres, hasta los con ñ, tildes y diéresis. ¡Es genial cómo funciona con caracteres especiales en los nombres!\n",
    "\n",
    "Ahora, vamos a usar un archivo de Excel como nuestra base de datos para probar cómo nuestro patrón encuentra nombres y apellidos de la mejor manera."
   ]
  },
  {
   "cell_type": "markdown",
   "id": "bc9ae26e",
   "metadata": {},
   "source": [
    "### Prompt 3:\n",
    "\n",
    "**Escribe un código en python para leer un archivo excel llamado 'data'. Proporciona un código que utilice expresiones regulares para extraer solo los apellidos de la columna Nombre_Completo. Este código debe considerar la presencia de tildes, la letra 'ñ' y la 'Ü'. Ten en cuenta el escape del delimitador.**"
   ]
  },
  {
   "cell_type": "markdown",
   "id": "711cb0e4",
   "metadata": {},
   "source": [
    "---\n",
    "<span style=\"color:green;\">ChatGPT:"
   ]
  },
  {
   "cell_type": "code",
   "execution_count": null,
   "id": "c785f67f",
   "metadata": {},
   "outputs": [],
   "source": [
    "import pandas as pd\n",
    "import re\n",
    "\n",
    "# Leer el archivo Excel\n",
    "archivo_excel = 'data.xlsx'  # Reemplaza 'data.xlsx' con el nombre de tu archivo Excel\n",
    "datos = pd.read_excel(archivo_excel)\n",
    "\n",
    "# Función para extraer apellidos con expresiones regulares\n",
    "def extraer_apellidos(texto):\n",
    "    patron = r'[A-Za-zÁÉÍÓÚÜÑáéíóúüñ]+\\s([A-Za-zÁÉÍÓÚÜÑáéíóúüñ]+)$'\n",
    "    apellidos = re.findall(patron, texto)\n",
    "    return apellidos\n",
    "\n",
    "# Extraer apellidos de la columna 'Nombre_Completo'\n",
    "nombres_completos = datos['Nombre_Completo'].astype(str)\n",
    "apellidos_extraidos = nombres_completos.apply(extraer_apellidos)\n",
    "\n",
    "# Imprimir apellidos extraídos\n",
    "print(\"Los apellidos extraídos son:\")\n",
    "for apellidos in apellidos_extraidos:\n",
    "    print(apellidos)"
   ]
  },
  {
   "cell_type": "markdown",
   "id": "83531e23-e980-4f1a-bb2b-a0f1d92e451a",
   "metadata": {},
   "source": [
    "---"
   ]
  },
  {
   "cell_type": "markdown",
   "id": "3fc5d836-5dc1-4c9f-bc94-ea1e1ad3e0c8",
   "metadata": {},
   "source": [
    "### Ejemplo 3: Rutas de directorio\n",
    "\n",
    "### Prompt 1:\n",
    "\n",
    "**Actúa como un generador de expresiones regulares. Ahora proporciona una expresión regular para capturar rutas de directorio válidas en un sistema de archivos.**"
   ]
  },
  {
   "cell_type": "markdown",
   "id": "df60afe6-4a54-4a4b-b6f6-37261bfb3909",
   "metadata": {},
   "source": [
    "---\n",
    "<span style=\"color:green;\">ChatGPT:\n",
    "```python\n",
    "^\\/?([\\w.-]+\\/?)+$\n",
    "```    \n",
    "<details>  \n",
    "\n",
    "^: Coincide con el inicio de la cadena.\n",
    "\n",
    "\\/?: Corresponde a una barra diagonal (/) opcional (?). Esta barra es escapada (\\/) para que se interprete literalmente.\n",
    "\n",
    "([\\w.-]+\\/?)+: Este grupo captura uno o más nombres de directorios.\n",
    "\n",
    "$: Coincide con el final de la cadena.\n",
    "</details>   \n"
   ]
  },
  {
   "cell_type": "markdown",
   "id": "4ff926d6-1e62-4c94-969c-2a31bd41ee5d",
   "metadata": {},
   "source": [
    "Al revisar nuestra expresión regular para encontrar rutas como D:\\Users\\ana\\file.pdf utilizando [regex](https://regex101.com/), notamos que no reconoce las rutas de directorio en Windows. Para mejorar esto, vamos a reforzar nuestra instrucción para que funcione de manera más efectiva.\n",
    "\n",
    "---"
   ]
  },
  {
   "cell_type": "markdown",
   "id": "530c39fc",
   "metadata": {},
   "source": [
    "### Prompt 2:\n",
    "\n",
    "**Proporciona una expresion regular para poder extraer rutas de directorio en sistemas Windows y Unix, que se encuentre en un solo patrón. Ten en cuenta el escape en el delimitador.**"
   ]
  },
  {
   "cell_type": "markdown",
   "id": "185ebad9",
   "metadata": {},
   "source": [
    "---\n",
    "<span style=\"color:green;\">ChatGPT:\n",
    "```python\n",
    "^((?:\\/|\\w:)[\\\\\\/\\w.-]+)*[\\\\\\/\\w.-]+$\n",
    "```    \n",
    "<details>  \n",
    "\n",
    "- Comienza con el separador de ruta de Unix / o una letra de unidad seguida de : en el caso de Windows (como C: o D:).\n",
    "    \n",
    "- Seguido por uno o más grupos de caracteres que pueden incluir barras diagonales /, barras invertidas \\, caracteres alfanuméricos (\\w), puntos (.) y guiones (-), que representan nombres de archivos o directorios.\n",
    "\n",
    "- Termina con un grupo final de caracteres similar al grupo anterior, permitiendo una ruta final válida.\n",
    "</details>   \n",
    "\n",
    "---"
   ]
  },
  {
   "cell_type": "markdown",
   "id": "0492382b",
   "metadata": {},
   "source": [
    "¡Echa un vistazo a la página [regex](https://regex101.com/)! El patrón que estamos usando incluye las rutas de directorio tanto en sistemas Windows como Unix. Vamos a utilizar el mismo archivo de Excel como nuestra base de datos para ver cómo nuestro patrón encuentra ambas rutas."
   ]
  },
  {
   "cell_type": "markdown",
   "id": "e1743078",
   "metadata": {},
   "source": [
    "### Prompt 3:\n",
    "\n",
    "**Escribe un código en python para leer un archivo excel llamado 'data'. Proporciona un código que utilice expresiones regulares para poder extraer rutas de directorio en sistemas Windows y Unix, debe coincidir con rutas que contengan barras invertidas, como /usr/local/bin/script.sh y D:\\Users\\ana\\file.pdf. Debes tener en cuenta el escape del delimitador..**"
   ]
  },
  {
   "cell_type": "markdown",
   "id": "3e8f02e2",
   "metadata": {},
   "source": [
    "---\n",
    "<span style=\"color:green;\">ChatGPT:"
   ]
  },
  {
   "cell_type": "code",
   "execution_count": null,
   "id": "1ca92142",
   "metadata": {},
   "outputs": [],
   "source": [
    "import pandas as pd\n",
    "import re\n",
    "\n",
    "# Leer el archivo Excel\n",
    "data = pd.read_excel('data.xlsx')  # Reemplaza 'data.xlsx' con el nombre real de tu archivo Excel\n",
    "\n",
    "# Expresión regular para encontrar rutas de directorio en sistemas Windows y Unix\n",
    "regex = r'(?:[A-Za-z]:\\\\(?:[\\w\\s-]+\\\\)*[\\w\\s-]+\\.\\w+)|(?:\\/(?:[\\w\\s-]+\\/)*[\\w\\s-]+\\.\\w+)'\n",
    "\n",
    "# Función para encontrar coincidencias con la expresión regular en una cadena\n",
    "def encontrar_rutas(cadena):\n",
    "    return re.findall(regex, cadena)\n",
    "\n",
    "# Iterar sobre las celdas del archivo Excel\n",
    "print(\"Las rutas de directorio son:\\n\")\n",
    "for columna in data.columns:\n",
    "    for indice, valor in data[columna].items():\n",
    "        if isinstance(valor, str):  # Verificar si el valor es una cadena\n",
    "            rutas = encontrar_rutas(valor)\n",
    "            if rutas:\n",
    "                print(rutas)\n"
   ]
  },
  {
   "cell_type": "markdown",
   "id": "72d8deab",
   "metadata": {},
   "source": [
    "---"
   ]
  },
  {
   "cell_type": "markdown",
   "id": "21d4d58b",
   "metadata": {},
   "source": [
    "En este recorrido desde lo básico hasta lo avanzado en expresiones regulares, has construido un camino sólido para explorar y dominar el arte de buscar patrones en textos. ¡Recuerda, cada pequeño paso cuenta!. ♥"
   ]
  },
  {
   "cell_type": "markdown",
   "id": "cc804607",
   "metadata": {},
   "source": [
    "---"
   ]
  }
 ],
 "metadata": {
  "kernelspec": {
   "display_name": "Python 3 (ipykernel)",
   "language": "python",
   "name": "python3"
  },
  "language_info": {
   "codemirror_mode": {
    "name": "ipython",
    "version": 3
   },
   "file_extension": ".py",
   "mimetype": "text/x-python",
   "name": "python",
   "nbconvert_exporter": "python",
   "pygments_lexer": "ipython3",
   "version": "3.11.4"
  }
 },
 "nbformat": 4,
 "nbformat_minor": 5
}
